{
  "cells": [
    {
      "cell_type": "markdown",
      "metadata": {
        "id": "kv_FioUGcWcP"
      },
      "source": [
        "1. 필요한 모듈 설치하기"
      ]
    },
    {
      "cell_type": "code",
      "execution_count": 2,
      "metadata": {
        "colab": {
          "base_uri": "https://localhost:8080/"
        },
        "id": "AY3x-d6EXtrE",
        "outputId": "a9e898bc-c3f2-4504-a2b7-fcf57a7880f9"
      },
      "outputs": [
        {
          "name": "stdout",
          "output_type": "stream",
          "text": [
            "Reading package lists... Done\n",
            "Building dependency tree... Done\n",
            "Reading state information... Done\n",
            "default-libmysqlclient-dev is already the newest version (1.0.8).\n",
            "default-libmysqlclient-dev set to manually installed.\n",
            "python3-dev is already the newest version (3.10.6-1~22.04).\n",
            "python3-dev set to manually installed.\n",
            "0 upgraded, 0 newly installed, 0 to remove and 19 not upgraded.\n",
            "Collecting pymysql\n",
            "  Downloading PyMySQL-1.1.0-py3-none-any.whl (44 kB)\n",
            "\u001b[2K     \u001b[90m━━━━━━━━━━━━━━━━━━━━━━━━━━━━━━━━━━━━━━━━\u001b[0m \u001b[32m44.8/44.8 kB\u001b[0m \u001b[31m887.6 kB/s\u001b[0m eta \u001b[36m0:00:00\u001b[0m\n",
            "\u001b[?25hInstalling collected packages: pymysql\n",
            "Successfully installed pymysql-1.1.0\n"
          ]
        }
      ],
      "source": [
        "!sudo apt-get install python3-dev default-libmysqlclient-dev\n",
        "# DB\n",
        "!pip install pymysql\n",
        "\n",
        "# 한글 설정\n",
        "!sudo apt-get install -y fonts-nanum\n",
        "!sudo fc-cache -fv\n",
        "!rm ~/.cache/matplotlib -rf"
      ]
    },
    {
      "cell_type": "code",
      "execution_count": 3,
      "metadata": {
        "colab": {
          "base_uri": "https://localhost:8080/"
        },
        "id": "l6z82rR6cKcR",
        "outputId": "57b20571-ef06-4508-be1a-2e3dd35531fc"
      },
      "outputs": [
        {
          "name": "stderr",
          "output_type": "stream",
          "text": [
            "<ipython-input-3-135b14673088>:18: UserWarning: pandas only supports SQLAlchemy connectable (engine/connection) or database string URI or sqlite3 DBAPI2 connection. Other DBAPI2 objects are not tested. Please consider using SQLAlchemy.\n",
            "  df = pd.read_sql_query(query, conn)\n"
          ]
        },
        {
          "name": "stdout",
          "output_type": "stream",
          "text": [
            "             pname  pprice pcategory\n",
            "0         털청소기 팝니다   12000        용품\n",
            "1            빗질 용품    2600        용품\n",
            "2          테스트용 상품    1234        간식\n",
            "3        테스트용 301자    1234        용품\n",
            "4             애견사료   13000        사료\n",
            "5          애견간식 판매   10000        간식\n",
            "6      강아지 옷 처분합니다   24000        의류\n",
            "7            자동간식기   14000        용품\n",
            "8              뱀사료  110000        사료\n",
            "9           애견미용세트   28000        용품\n",
            "10        햄스터 목욕모래    4000        간식\n",
            "11     강아지 미용 용품세트  120000        용품\n",
            "12      카멜레온 사육 키트  128000        용품\n",
            "13      햄스터 먹이 팝니다    6000        사료\n",
            "14       고양이 옷 팝니다    4000        의류\n",
            "15            캣 타워  600000        용품\n",
            "16            강아지집   90000        용품\n",
            "17           고양이침대   40000        용품\n",
            "18          고양이 사료   24000        사료\n",
            "19    고양이 전용 사료통조림    2000        사료\n",
            "20  고양이 3단 사료 팝니다.   25000        용품\n",
            "21        햄스터 리빙박스   30000        용품\n",
            "22          햄스터 사료    8500        사료\n",
            "23      햄스터 리빙박스!!   30000        용품\n",
            "24              ㅁㅁ      20        사료\n",
            "25    건조 햄스터사료 입니다    5000        사료\n",
            "26     햄스터 간식 및 사료    6000        사료\n",
            "27         햄스터 케이지   28500        용품\n",
            "28         햄스터 케이지   28500        용품\n",
            "29         햄스터 케이지   19000        용품\n",
            "30             케이지       1        용품\n",
            "31         햄스터 케이지   24000        용품\n",
            "\n",
            "pcategory\n",
            "간식     5078\n",
            "사료    19391\n",
            "용품    67824\n",
            "의류    14000\n",
            "Name: pprice, dtype: int64\n",
            "score -16.476300068887113\n"
          ]
        }
      ],
      "source": [
        "import pymysql\n",
        "import pandas as pd\n",
        "\n",
        "from sklearn.model_selection import train_test_split\n",
        "from sklearn.linear_model import LinearRegression\n",
        "from sklearn.preprocessing import OneHotEncoder\n",
        "\n",
        "username = 'root'\n",
        "password = '***'\n",
        "host = '***'  # or your_host:your_port\n",
        "port=3306\n",
        "database = 'furry_friend_product'\n",
        "\n",
        "conn = pymysql.connect(host=host, port=port, user=username, password=password, db=database)\n",
        "\n",
        "query = \"SELECT pname, pprice, pcategory FROM product\"\n",
        "\n",
        "df = pd.read_sql_query(query, conn)\n",
        "\n",
        "average_prices = df.groupby('pcategory')['pprice'].mean().astype(int)\n",
        "\n",
        "# 너무 작은 가격 혹은 너무 큰 가격은 데이터에 포함되지 않도록 설정\n",
        "df = df[(df['pprice'] > 100) & (df['pprice'] < 10000000)]\n",
        "\n",
        "grouped_df = df.groupby('pcategory')['pprice'].mean().astype(int)\n",
        "\n",
        "# pcategory의 고유한 값들을 가져옴\n",
        "categories = df['pcategory'].unique()\n",
        "\n",
        "# 꺽은선 그래프 그리기\n",
        "for category in categories:\n",
        "    filtered_df = df[df['pcategory'] == category]\n",
        "    sns.lineplot(x=filtered_df.index, y=filtered_df['pprice'], label=category)\n",
        "\n",
        "    # 그래프의 제목과 축 라벨 설정\n",
        "    plt.title('Price by : ' + category)\n",
        "    plt.xlabel('Category')\n",
        "    plt.ylabel('Price')\n",
        "\n",
        "    plt.show()"
      ]
    }
  ],
  "metadata": {
    "colab": {
      "provenance": []
    },
    "kernelspec": {
      "display_name": "Python 3",
      "name": "python3"
    },
    "language_info": {
      "name": "python"
    }
  },
  "nbformat": 4,
  "nbformat_minor": 0
}
